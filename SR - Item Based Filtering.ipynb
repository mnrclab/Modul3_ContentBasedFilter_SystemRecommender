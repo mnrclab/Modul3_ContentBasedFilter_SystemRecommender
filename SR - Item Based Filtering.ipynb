{
 "cells": [
  {
   "cell_type": "markdown",
   "metadata": {},
   "source": [
    "# __``System Recommender``__\n",
    "\n",
    "<img src='a_img.png' width=800 height=800>\n",
    "\n",
    "# **Content Based Filtering**\n",
    "\n",
    "<hr>\n",
    "\n",
    "Recommender System is a system that seeks to predict or filter preferences according to the user’s choices. Recommender systems are utilized in a variety of areas including movies, music, news, books, research articles, search queries, social tags, and products in general.\n",
    "\n",
    "Like many machine learning techniques, a recommender system makes prediction based on users’ historical behaviors. Specifically, it’s to predict user preference for a set of items based on past experience. To build a recommender system, the most two popular approaches are Content-based and Collaborative Filtering.\n",
    "\n"
   ]
  },
  {
   "cell_type": "markdown",
   "metadata": {},
   "source": [
    "Recommender systems produce a list of recommendations in any of the two ways –\n",
    "\n",
    "### 1. **Collaborative filtering**\n",
    "\n",
    "Collaborative filtering approaches build a model from user’s past behavior (i.e. items purchased or searched by the user) as well as similar decisions made by other users. This model is then used to predict items (or ratings for items) that user may have an interest in.\n",
    "\n",
    "Collaborative Filtering, on the other hand, doesn’t need anything else except users’ historical preference on a set of items. Because it’s based on historical data, the core assumption here is that the users who have agreed in the past tend to also agree in the future. \n",
    "\n",
    "### 2. **Content-based filtering**\n",
    "\n",
    "Content-based filtering approaches uses a series of discrete characteristics of an item in order to recommend additional items with similar properties. Content-based filtering methods are totally based on a description of the item and a profile of the user’s preferences. It recommends items based on user’s past preferences.\n",
    "\n",
    "Content-based approach requires a good amount of information of items’ own features, rather than using users’ interactions and feedbacks. For example, it can be movie attributes such as genre, year, director, actor etc., or textual content of articles that can extracted by applying Natural Language Processing. \n",
    "\n",
    "<hr>"
   ]
  },
  {
   "cell_type": "markdown",
   "metadata": {},
   "source": [
    "### How to make content-based filtering:\n",
    "\n",
    "__1. Calculate similarity among the items:__\n",
    "\n",
    "-    Cosine-Based Similarity\n",
    "\n",
    "<img src = 'b_img.png'>\n",
    "\n",
    "-    Correlation-Based Similarity\n",
    "-    Adjusted Cosine Similarity\n",
    "-    1-Jaccard distance\n",
    "\n",
    "__2. Calculation of Prediction:__\n",
    "\n",
    "-    Weighted Sum\n",
    "-    Regression"
   ]
  },
  {
   "cell_type": "markdown",
   "metadata": {},
   "source": [
    "<hr>\n",
    "\n",
    "# Understanding Content Based Filtering using __``Simple Dataset``__\n",
    "\n",
    "Rekomendasi diberikan berdasarkan features dari item yang disukai user"
   ]
  },
  {
   "cell_type": "markdown",
   "metadata": {},
   "source": [
    "### __Import Libraries__"
   ]
  },
  {
   "cell_type": "code",
   "execution_count": 2,
   "metadata": {},
   "outputs": [],
   "source": [
    "import pandas as pd\n",
    "import numpy as np\n",
    "\n",
    "from sklearn.feature_extraction.text import CountVectorizer\n",
    "from sklearn.metrics.pairwise import cosine_similarity"
   ]
  },
  {
   "cell_type": "markdown",
   "metadata": {},
   "source": [
    "### __Create DataFrame__"
   ]
  },
  {
   "cell_type": "code",
   "execution_count": 3,
   "metadata": {},
   "outputs": [
    {
     "data": {
      "text/html": [
       "<div>\n",
       "<style scoped>\n",
       "    .dataframe tbody tr th:only-of-type {\n",
       "        vertical-align: middle;\n",
       "    }\n",
       "\n",
       "    .dataframe tbody tr th {\n",
       "        vertical-align: top;\n",
       "    }\n",
       "\n",
       "    .dataframe thead th {\n",
       "        text-align: right;\n",
       "    }\n",
       "</style>\n",
       "<table border=\"1\" class=\"dataframe\">\n",
       "  <thead>\n",
       "    <tr style=\"text-align: right;\">\n",
       "      <th></th>\n",
       "      <th>title</th>\n",
       "      <th>genre</th>\n",
       "      <th>penyanyi</th>\n",
       "    </tr>\n",
       "  </thead>\n",
       "  <tbody>\n",
       "    <tr>\n",
       "      <th>0</th>\n",
       "      <td>A</td>\n",
       "      <td>Pop</td>\n",
       "      <td>Andi</td>\n",
       "    </tr>\n",
       "    <tr>\n",
       "      <th>1</th>\n",
       "      <td>B</td>\n",
       "      <td>Keroncong</td>\n",
       "      <td>Andi</td>\n",
       "    </tr>\n",
       "    <tr>\n",
       "      <th>2</th>\n",
       "      <td>C</td>\n",
       "      <td>Dangdut</td>\n",
       "      <td>Andi</td>\n",
       "    </tr>\n",
       "    <tr>\n",
       "      <th>3</th>\n",
       "      <td>D</td>\n",
       "      <td>Pop</td>\n",
       "      <td>Budi</td>\n",
       "    </tr>\n",
       "    <tr>\n",
       "      <th>4</th>\n",
       "      <td>E</td>\n",
       "      <td>Keroncong</td>\n",
       "      <td>Budi</td>\n",
       "    </tr>\n",
       "    <tr>\n",
       "      <th>5</th>\n",
       "      <td>F</td>\n",
       "      <td>Dangdut</td>\n",
       "      <td>Budi</td>\n",
       "    </tr>\n",
       "    <tr>\n",
       "      <th>6</th>\n",
       "      <td>G</td>\n",
       "      <td>Pop</td>\n",
       "      <td>Caca</td>\n",
       "    </tr>\n",
       "    <tr>\n",
       "      <th>7</th>\n",
       "      <td>H</td>\n",
       "      <td>Keroncong</td>\n",
       "      <td>Caca</td>\n",
       "    </tr>\n",
       "    <tr>\n",
       "      <th>8</th>\n",
       "      <td>I</td>\n",
       "      <td>Dangdut</td>\n",
       "      <td>Caca</td>\n",
       "    </tr>\n",
       "    <tr>\n",
       "      <th>9</th>\n",
       "      <td>J</td>\n",
       "      <td>Pop</td>\n",
       "      <td>Caca</td>\n",
       "    </tr>\n",
       "  </tbody>\n",
       "</table>\n",
       "</div>"
      ],
      "text/plain": [
       "  title      genre penyanyi\n",
       "0     A        Pop     Andi\n",
       "1     B  Keroncong     Andi\n",
       "2     C    Dangdut     Andi\n",
       "3     D        Pop     Budi\n",
       "4     E  Keroncong     Budi\n",
       "5     F    Dangdut     Budi\n",
       "6     G        Pop     Caca\n",
       "7     H  Keroncong     Caca\n",
       "8     I    Dangdut     Caca\n",
       "9     J        Pop     Caca"
      ]
     },
     "execution_count": 3,
     "metadata": {},
     "output_type": "execute_result"
    }
   ],
   "source": [
    "df = pd.DataFrame([\n",
    "    {'title': 'A', 'genre': 'Pop', 'penyanyi': 'Andi'},\n",
    "    {'title': 'B', 'genre': 'Keroncong', 'penyanyi': 'Andi'},\n",
    "    {'title': 'C', 'genre': 'Dangdut', 'penyanyi': 'Andi'},\n",
    "    {'title': 'D', 'genre': 'Pop', 'penyanyi': 'Budi'},\n",
    "    {'title': 'E', 'genre': 'Keroncong', 'penyanyi': 'Budi'},\n",
    "    {'title': 'F', 'genre': 'Dangdut', 'penyanyi': 'Budi'},\n",
    "    {'title': 'G', 'genre': 'Pop', 'penyanyi': 'Caca'},\n",
    "    {'title': 'H', 'genre': 'Keroncong', 'penyanyi': 'Caca'},\n",
    "    {'title': 'I', 'genre': 'Dangdut', 'penyanyi': 'Caca'},\n",
    "    {'title': 'J', 'genre': 'Pop', 'penyanyi': 'Caca'},\n",
    "])\n",
    "\n",
    "df"
   ]
  },
  {
   "cell_type": "markdown",
   "metadata": {},
   "source": [
    "**CountVectorizer in Python**\n",
    "\n",
    "In order to use textual data for predictive modeling, the text must be parsed to remove certain words – this process is called tokenization. These words need to then be encoded as integers, or floating-point values, for use as inputs in machine learning algorithms. This process is called feature extraction (or vectorization).\n",
    "\n",
    "Scikit-learn’s CountVectorizer is used to convert a collection of text documents to a vector of term/token counts. It also enables the ​pre-processing of text data prior to generating the vector representation. This functionality makes it a highly flexible feature representation module for text.\n",
    "\n",
    "<img src='c_img.png'>\n",
    "\n",
    "[source](https://www.educative.io/edpresso/countvectorizer-in-python)"
   ]
  },
  {
   "cell_type": "code",
   "execution_count": 4,
   "metadata": {},
   "outputs": [
    {
     "data": {
      "text/plain": [
       "{'pop': 2, 'keroncong': 1, 'dangdut': 0}"
      ]
     },
     "execution_count": 4,
     "metadata": {},
     "output_type": "execute_result"
    }
   ],
   "source": [
    "cv = CountVectorizer()\n",
    "\n",
    "#tokenize\n",
    "cv.fit(df['genre'])\n",
    "\n",
    "cv.vocabulary_"
   ]
  },
  {
   "cell_type": "code",
   "execution_count": 5,
   "metadata": {},
   "outputs": [
    {
     "data": {
      "text/plain": [
       "['dangdut', 'keroncong', 'pop']"
      ]
     },
     "execution_count": 5,
     "metadata": {},
     "output_type": "execute_result"
    }
   ],
   "source": [
    "mgenre = cv.fit_transform(df['genre'])\n",
    "cv.get_feature_names()"
   ]
  },
  {
   "cell_type": "code",
   "execution_count": 7,
   "metadata": {},
   "outputs": [
    {
     "data": {
      "text/plain": [
       "scipy.sparse.csr.csr_matrix"
      ]
     },
     "execution_count": 7,
     "metadata": {},
     "output_type": "execute_result"
    }
   ],
   "source": [
    "type(mgenre)"
   ]
  },
  {
   "cell_type": "code",
   "execution_count": 8,
   "metadata": {},
   "outputs": [
    {
     "data": {
      "text/plain": [
       "array([[0, 0, 1],\n",
       "       [0, 1, 0],\n",
       "       [1, 0, 0],\n",
       "       [0, 0, 1],\n",
       "       [0, 1, 0],\n",
       "       [1, 0, 0],\n",
       "       [0, 0, 1],\n",
       "       [0, 1, 0],\n",
       "       [1, 0, 0],\n",
       "       [0, 0, 1]], dtype=int64)"
      ]
     },
     "execution_count": 8,
     "metadata": {},
     "output_type": "execute_result"
    }
   ],
   "source": [
    "# melihat hasilnya\n",
    "mgenre.toarray()"
   ]
  },
  {
   "cell_type": "code",
   "execution_count": 9,
   "metadata": {},
   "outputs": [
    {
     "data": {
      "text/plain": [
       "(10, 3)"
      ]
     },
     "execution_count": 9,
     "metadata": {},
     "output_type": "execute_result"
    }
   ],
   "source": [
    "mgenre.shape"
   ]
  },
  {
   "cell_type": "code",
   "execution_count": 11,
   "metadata": {},
   "outputs": [
    {
     "data": {
      "text/html": [
       "<div>\n",
       "<style scoped>\n",
       "    .dataframe tbody tr th:only-of-type {\n",
       "        vertical-align: middle;\n",
       "    }\n",
       "\n",
       "    .dataframe tbody tr th {\n",
       "        vertical-align: top;\n",
       "    }\n",
       "\n",
       "    .dataframe thead th {\n",
       "        text-align: right;\n",
       "    }\n",
       "</style>\n",
       "<table border=\"1\" class=\"dataframe\">\n",
       "  <thead>\n",
       "    <tr style=\"text-align: right;\">\n",
       "      <th></th>\n",
       "      <th>dangdut</th>\n",
       "      <th>keroncong</th>\n",
       "      <th>pop</th>\n",
       "    </tr>\n",
       "  </thead>\n",
       "  <tbody>\n",
       "    <tr>\n",
       "      <th>0</th>\n",
       "      <td>0</td>\n",
       "      <td>0</td>\n",
       "      <td>1</td>\n",
       "    </tr>\n",
       "    <tr>\n",
       "      <th>1</th>\n",
       "      <td>0</td>\n",
       "      <td>1</td>\n",
       "      <td>0</td>\n",
       "    </tr>\n",
       "    <tr>\n",
       "      <th>2</th>\n",
       "      <td>1</td>\n",
       "      <td>0</td>\n",
       "      <td>0</td>\n",
       "    </tr>\n",
       "    <tr>\n",
       "      <th>3</th>\n",
       "      <td>0</td>\n",
       "      <td>0</td>\n",
       "      <td>1</td>\n",
       "    </tr>\n",
       "    <tr>\n",
       "      <th>4</th>\n",
       "      <td>0</td>\n",
       "      <td>1</td>\n",
       "      <td>0</td>\n",
       "    </tr>\n",
       "    <tr>\n",
       "      <th>5</th>\n",
       "      <td>1</td>\n",
       "      <td>0</td>\n",
       "      <td>0</td>\n",
       "    </tr>\n",
       "    <tr>\n",
       "      <th>6</th>\n",
       "      <td>0</td>\n",
       "      <td>0</td>\n",
       "      <td>1</td>\n",
       "    </tr>\n",
       "    <tr>\n",
       "      <th>7</th>\n",
       "      <td>0</td>\n",
       "      <td>1</td>\n",
       "      <td>0</td>\n",
       "    </tr>\n",
       "    <tr>\n",
       "      <th>8</th>\n",
       "      <td>1</td>\n",
       "      <td>0</td>\n",
       "      <td>0</td>\n",
       "    </tr>\n",
       "    <tr>\n",
       "      <th>9</th>\n",
       "      <td>0</td>\n",
       "      <td>0</td>\n",
       "      <td>1</td>\n",
       "    </tr>\n",
       "  </tbody>\n",
       "</table>\n",
       "</div>"
      ],
      "text/plain": [
       "   dangdut  keroncong  pop\n",
       "0        0          0    1\n",
       "1        0          1    0\n",
       "2        1          0    0\n",
       "3        0          0    1\n",
       "4        0          1    0\n",
       "5        1          0    0\n",
       "6        0          0    1\n",
       "7        0          1    0\n",
       "8        1          0    0\n",
       "9        0          0    1"
      ]
     },
     "execution_count": 11,
     "metadata": {},
     "output_type": "execute_result"
    }
   ],
   "source": [
    "#ubah menjadi 2d\n",
    "mgenre_matrix = mgenre.todense()\n",
    "\n",
    "# menampilkan dalam bentuk dataframe\n",
    "df_matrix = pd.DataFrame(mgenre_matrix, columns = cv.get_feature_names())\n",
    "df_matrix"
   ]
  },
  {
   "cell_type": "markdown",
   "metadata": {},
   "source": [
    "### __Cosine Similarity__\n",
    "\n",
    "Cosine similarity is a metric used to measure how similar the documents are irrespective of their size. Mathematically, it measures the cosine of the angle between two vectors projected in a multi-dimensional space. The cosine similarity is advantageous because even if the two similar documents are far apart by the Euclidean distance (due to the size of the document), chances are they may still be oriented closer together. The smaller the angle, higher the cosine similarity.\n",
    "\n",
    "<img src = 'b_img.png'>\n",
    "\n",
    "#### __Example__\n",
    "\n",
    "![image](https://www.machinelearningplus.com/wp-content/uploads/2018/10/the_three_documents-865x610.png?ezimgfmt=ng:webp/ngcb1)\n",
    "\n",
    "[source](https://www.machinelearningplus.com/nlp/cosine-similarity/)"
   ]
  },
  {
   "cell_type": "markdown",
   "metadata": {},
   "source": [
    "### __Contoh Penerapan Cosine Similarity__"
   ]
  },
  {
   "cell_type": "code",
   "execution_count": 12,
   "metadata": {},
   "outputs": [],
   "source": [
    "# ada 3 document\n",
    "doc_WM = 'Today, we learn how to build dinamic website and mobile apps'\n",
    "doc_DM = 'Today, we learn how to promote mobile apps to segmented market'\n",
    "doc_DS = 'Today, we learn hot to build recommender system'\n",
    "\n",
    "documents = [doc_WM, doc_DM, doc_DS]"
   ]
  },
  {
   "cell_type": "code",
   "execution_count": 15,
   "metadata": {},
   "outputs": [],
   "source": [
    "count_vectorizer = CountVectorizer(stop_words='english')\n",
    "sparse_matrix = count_vectorizer.fit_transform(documents)"
   ]
  },
  {
   "cell_type": "code",
   "execution_count": 16,
   "metadata": {},
   "outputs": [
    {
     "data": {
      "text/html": [
       "<div>\n",
       "<style scoped>\n",
       "    .dataframe tbody tr th:only-of-type {\n",
       "        vertical-align: middle;\n",
       "    }\n",
       "\n",
       "    .dataframe tbody tr th {\n",
       "        vertical-align: top;\n",
       "    }\n",
       "\n",
       "    .dataframe thead th {\n",
       "        text-align: right;\n",
       "    }\n",
       "</style>\n",
       "<table border=\"1\" class=\"dataframe\">\n",
       "  <thead>\n",
       "    <tr style=\"text-align: right;\">\n",
       "      <th></th>\n",
       "      <th>apps</th>\n",
       "      <th>build</th>\n",
       "      <th>dinamic</th>\n",
       "      <th>hot</th>\n",
       "      <th>learn</th>\n",
       "      <th>market</th>\n",
       "      <th>mobile</th>\n",
       "      <th>promote</th>\n",
       "      <th>recommender</th>\n",
       "      <th>segmented</th>\n",
       "      <th>today</th>\n",
       "      <th>website</th>\n",
       "    </tr>\n",
       "  </thead>\n",
       "  <tbody>\n",
       "    <tr>\n",
       "      <th>doc_WM</th>\n",
       "      <td>1</td>\n",
       "      <td>1</td>\n",
       "      <td>1</td>\n",
       "      <td>0</td>\n",
       "      <td>1</td>\n",
       "      <td>0</td>\n",
       "      <td>1</td>\n",
       "      <td>0</td>\n",
       "      <td>0</td>\n",
       "      <td>0</td>\n",
       "      <td>1</td>\n",
       "      <td>1</td>\n",
       "    </tr>\n",
       "    <tr>\n",
       "      <th>doc_DM</th>\n",
       "      <td>1</td>\n",
       "      <td>0</td>\n",
       "      <td>0</td>\n",
       "      <td>0</td>\n",
       "      <td>1</td>\n",
       "      <td>1</td>\n",
       "      <td>1</td>\n",
       "      <td>1</td>\n",
       "      <td>0</td>\n",
       "      <td>1</td>\n",
       "      <td>1</td>\n",
       "      <td>0</td>\n",
       "    </tr>\n",
       "    <tr>\n",
       "      <th>doc_DS</th>\n",
       "      <td>0</td>\n",
       "      <td>1</td>\n",
       "      <td>0</td>\n",
       "      <td>1</td>\n",
       "      <td>1</td>\n",
       "      <td>0</td>\n",
       "      <td>0</td>\n",
       "      <td>0</td>\n",
       "      <td>1</td>\n",
       "      <td>0</td>\n",
       "      <td>1</td>\n",
       "      <td>0</td>\n",
       "    </tr>\n",
       "  </tbody>\n",
       "</table>\n",
       "</div>"
      ],
      "text/plain": [
       "        apps  build  dinamic  hot  learn  market  mobile  promote  \\\n",
       "doc_WM     1      1        1    0      1       0       1        0   \n",
       "doc_DM     1      0        0    0      1       1       1        1   \n",
       "doc_DS     0      1        0    1      1       0       0        0   \n",
       "\n",
       "        recommender  segmented  today  website  \n",
       "doc_WM            0          0      1        1  \n",
       "doc_DM            0          1      1        0  \n",
       "doc_DS            1          0      1        0  "
      ]
     },
     "execution_count": 16,
     "metadata": {},
     "output_type": "execute_result"
    }
   ],
   "source": [
    "# tampilkan dalam bentuk dataframe\n",
    "doc_matrix = sparse_matrix.todense()\n",
    "df_coba = pd.DataFrame(doc_matrix, \n",
    "                       columns=count_vectorizer.get_feature_names(),\n",
    "                      index = ['doc_WM', 'doc_DM', 'doc_DS'])\n",
    "df_coba"
   ]
  },
  {
   "cell_type": "code",
   "execution_count": 17,
   "metadata": {},
   "outputs": [
    {
     "data": {
      "text/plain": [
       "array([[1.        , 0.57142857, 0.50709255],\n",
       "       [0.57142857, 1.        , 0.3380617 ],\n",
       "       [0.50709255, 0.3380617 , 1.        ]])"
      ]
     },
     "execution_count": 17,
     "metadata": {},
     "output_type": "execute_result"
    }
   ],
   "source": [
    "cosine_similarity(df_coba)"
   ]
  },
  {
   "cell_type": "markdown",
   "metadata": {},
   "source": [
    "### __Lanjutan code music recommender__"
   ]
  },
  {
   "cell_type": "code",
   "execution_count": 21,
   "metadata": {},
   "outputs": [
    {
     "data": {
      "text/plain": [
       "array([[1., 0., 0., 1., 0., 0., 1., 0., 0., 1.],\n",
       "       [0., 1., 0., 0., 1., 0., 0., 1., 0., 0.],\n",
       "       [0., 0., 1., 0., 0., 1., 0., 0., 1., 0.],\n",
       "       [1., 0., 0., 1., 0., 0., 1., 0., 0., 1.],\n",
       "       [0., 1., 0., 0., 1., 0., 0., 1., 0., 0.],\n",
       "       [0., 0., 1., 0., 0., 1., 0., 0., 1., 0.],\n",
       "       [1., 0., 0., 1., 0., 0., 1., 0., 0., 1.],\n",
       "       [0., 1., 0., 0., 1., 0., 0., 1., 0., 0.],\n",
       "       [0., 0., 1., 0., 0., 1., 0., 0., 1., 0.],\n",
       "       [1., 0., 0., 1., 0., 0., 1., 0., 0., 1.]])"
      ]
     },
     "execution_count": 21,
     "metadata": {},
     "output_type": "execute_result"
    }
   ],
   "source": [
    "cosScore = cosine_similarity(mgenre)\n",
    "cosScore"
   ]
  },
  {
   "cell_type": "markdown",
   "metadata": {},
   "source": [
    "### __Music Recommendation__\n",
    "\n",
    "**Enumerate() in Python**\n",
    "\n",
    "A lot of times when dealing with iterators, we also get a need to keep a count of iterations. Python eases the programmers’ task by providing a built-in function enumerate() for this task. Enumerate() method adds a counter to an iterable and returns it in a form of enumerate object. This enumerate object can then be used directly in for loops or be converted into a list of tuples using list() method.\n",
    "[source](https://www.geeksforgeeks.org/enumerate-in-python/)"
   ]
  },
  {
   "cell_type": "code",
   "execution_count": 22,
   "metadata": {},
   "outputs": [
    {
     "data": {
      "text/html": [
       "<div>\n",
       "<style scoped>\n",
       "    .dataframe tbody tr th:only-of-type {\n",
       "        vertical-align: middle;\n",
       "    }\n",
       "\n",
       "    .dataframe tbody tr th {\n",
       "        vertical-align: top;\n",
       "    }\n",
       "\n",
       "    .dataframe thead th {\n",
       "        text-align: right;\n",
       "    }\n",
       "</style>\n",
       "<table border=\"1\" class=\"dataframe\">\n",
       "  <thead>\n",
       "    <tr style=\"text-align: right;\">\n",
       "      <th></th>\n",
       "      <th>title</th>\n",
       "      <th>genre</th>\n",
       "      <th>penyanyi</th>\n",
       "    </tr>\n",
       "  </thead>\n",
       "  <tbody>\n",
       "    <tr>\n",
       "      <th>0</th>\n",
       "      <td>A</td>\n",
       "      <td>Pop</td>\n",
       "      <td>Andi</td>\n",
       "    </tr>\n",
       "    <tr>\n",
       "      <th>1</th>\n",
       "      <td>B</td>\n",
       "      <td>Keroncong</td>\n",
       "      <td>Andi</td>\n",
       "    </tr>\n",
       "    <tr>\n",
       "      <th>2</th>\n",
       "      <td>C</td>\n",
       "      <td>Dangdut</td>\n",
       "      <td>Andi</td>\n",
       "    </tr>\n",
       "    <tr>\n",
       "      <th>3</th>\n",
       "      <td>D</td>\n",
       "      <td>Pop</td>\n",
       "      <td>Budi</td>\n",
       "    </tr>\n",
       "    <tr>\n",
       "      <th>4</th>\n",
       "      <td>E</td>\n",
       "      <td>Keroncong</td>\n",
       "      <td>Budi</td>\n",
       "    </tr>\n",
       "    <tr>\n",
       "      <th>5</th>\n",
       "      <td>F</td>\n",
       "      <td>Dangdut</td>\n",
       "      <td>Budi</td>\n",
       "    </tr>\n",
       "    <tr>\n",
       "      <th>6</th>\n",
       "      <td>G</td>\n",
       "      <td>Pop</td>\n",
       "      <td>Caca</td>\n",
       "    </tr>\n",
       "    <tr>\n",
       "      <th>7</th>\n",
       "      <td>H</td>\n",
       "      <td>Keroncong</td>\n",
       "      <td>Caca</td>\n",
       "    </tr>\n",
       "    <tr>\n",
       "      <th>8</th>\n",
       "      <td>I</td>\n",
       "      <td>Dangdut</td>\n",
       "      <td>Caca</td>\n",
       "    </tr>\n",
       "    <tr>\n",
       "      <th>9</th>\n",
       "      <td>J</td>\n",
       "      <td>Pop</td>\n",
       "      <td>Caca</td>\n",
       "    </tr>\n",
       "  </tbody>\n",
       "</table>\n",
       "</div>"
      ],
      "text/plain": [
       "  title      genre penyanyi\n",
       "0     A        Pop     Andi\n",
       "1     B  Keroncong     Andi\n",
       "2     C    Dangdut     Andi\n",
       "3     D        Pop     Budi\n",
       "4     E  Keroncong     Budi\n",
       "5     F    Dangdut     Budi\n",
       "6     G        Pop     Caca\n",
       "7     H  Keroncong     Caca\n",
       "8     I    Dangdut     Caca\n",
       "9     J        Pop     Caca"
      ]
     },
     "execution_count": 22,
     "metadata": {},
     "output_type": "execute_result"
    }
   ],
   "source": [
    "df"
   ]
  },
  {
   "cell_type": "code",
   "execution_count": 23,
   "metadata": {},
   "outputs": [
    {
     "name": "stdin",
     "output_type": "stream",
     "text": [
      "terakhir didengar?  1\n"
     ]
    },
    {
     "data": {
      "text/plain": [
       "[(0, 0.0),\n",
       " (1, 1.0),\n",
       " (2, 0.0),\n",
       " (3, 0.0),\n",
       " (4, 1.0),\n",
       " (5, 0.0),\n",
       " (6, 0.0),\n",
       " (7, 1.0),\n",
       " (8, 0.0),\n",
       " (9, 0.0)]"
      ]
     },
     "execution_count": 23,
     "metadata": {},
     "output_type": "execute_result"
    }
   ],
   "source": [
    "# terakhir yang didengar oleh user\n",
    "last_played = int(input('terakhir didengar? ')) #index\n",
    "\n",
    "music_recom = list(enumerate(cosScore[last_played]))\n",
    "music_recom"
   ]
  },
  {
   "cell_type": "code",
   "execution_count": 24,
   "metadata": {},
   "outputs": [
    {
     "data": {
      "text/plain": [
       "[(1, 1.0), (4, 1.0), (7, 1.0), (0, 0.0), (2, 0.0)]"
      ]
     },
     "execution_count": 24,
     "metadata": {},
     "output_type": "execute_result"
    }
   ],
   "source": [
    "your_recom = sorted(music_recom, key = lambda x: x[1], reverse=True)\n",
    "your_recom[:5]"
   ]
  },
  {
   "cell_type": "code",
   "execution_count": 25,
   "metadata": {},
   "outputs": [
    {
     "name": "stdout",
     "output_type": "stream",
     "text": [
      "title               B\n",
      "genre       Keroncong\n",
      "penyanyi         Andi\n",
      "Name: 1, dtype: object\n",
      "title               E\n",
      "genre       Keroncong\n",
      "penyanyi         Budi\n",
      "Name: 4, dtype: object\n",
      "title               H\n",
      "genre       Keroncong\n",
      "penyanyi         Caca\n",
      "Name: 7, dtype: object\n",
      "title          A\n",
      "genre        Pop\n",
      "penyanyi    Andi\n",
      "Name: 0, dtype: object\n",
      "title             C\n",
      "genre       Dangdut\n",
      "penyanyi       Andi\n",
      "Name: 2, dtype: object\n"
     ]
    }
   ],
   "source": [
    "# menamplkan lima musik yang direkomendasikan\n",
    "for i in your_recom[:5]:\n",
    "    print(df.iloc[i[0]])"
   ]
  },
  {
   "cell_type": "markdown",
   "metadata": {},
   "source": [
    "<hr>\n",
    "\n",
    "# __``Anime Recomendation``__"
   ]
  },
  {
   "cell_type": "markdown",
   "metadata": {},
   "source": [
    "### __Open Anime Dataset__"
   ]
  },
  {
   "cell_type": "code",
   "execution_count": 34,
   "metadata": {},
   "outputs": [
    {
     "data": {
      "text/plain": [
       "(12294, 7)"
      ]
     },
     "execution_count": 34,
     "metadata": {},
     "output_type": "execute_result"
    }
   ],
   "source": [
    "df_anime = pd.read_csv('anime.csv')\n",
    "df_anime.shape"
   ]
  },
  {
   "cell_type": "code",
   "execution_count": 35,
   "metadata": {},
   "outputs": [
    {
     "data": {
      "text/plain": [
       "anime_id      0\n",
       "name          0\n",
       "genre        62\n",
       "type         25\n",
       "episodes      0\n",
       "rating      230\n",
       "members       0\n",
       "dtype: int64"
      ]
     },
     "execution_count": 35,
     "metadata": {},
     "output_type": "execute_result"
    }
   ],
   "source": [
    "df_anime.isna().sum()"
   ]
  },
  {
   "cell_type": "code",
   "execution_count": 36,
   "metadata": {},
   "outputs": [
    {
     "data": {
      "text/plain": [
       "anime_id    0\n",
       "name        0\n",
       "genre       0\n",
       "type        0\n",
       "episodes    0\n",
       "rating      0\n",
       "members     0\n",
       "dtype: int64"
      ]
     },
     "execution_count": 36,
     "metadata": {},
     "output_type": "execute_result"
    }
   ],
   "source": [
    "df_anime = df_anime.iloc[:850] #data terlalu besar\n",
    "df_anime.isna().sum()"
   ]
  },
  {
   "cell_type": "code",
   "execution_count": 37,
   "metadata": {},
   "outputs": [
    {
     "data": {
      "text/plain": [
       "TV         469\n",
       "Movie      184\n",
       "OVA        109\n",
       "Special     76\n",
       "ONA          9\n",
       "Music        3\n",
       "Name: type, dtype: int64"
      ]
     },
     "execution_count": 37,
     "metadata": {},
     "output_type": "execute_result"
    }
   ],
   "source": [
    "df_anime['type'].value_counts()"
   ]
  },
  {
   "cell_type": "code",
   "execution_count": 38,
   "metadata": {},
   "outputs": [
    {
     "data": {
      "text/plain": [
       "Adventure, Comedy, Mystery, Police, Shounen                       17\n",
       "Comedy, School, Slice of Life                                     15\n",
       "Comedy, Drama, Shounen, Sports                                    10\n",
       "Comedy, School, Shounen, Sports                                   10\n",
       "Action, Comedy, Historical, Parody, Samurai, Sci-Fi, Shounen       9\n",
       "                                                                  ..\n",
       "Action, Drama, Fantasy, Magic, Mystery, Psychological, Shounen     1\n",
       "Drama, School, Shoujo Ai, Slice of Life                            1\n",
       "Action, Adventure, Comedy, Fantasy, Romance                        1\n",
       "Horror, Mystery, Psychological, Supernatural, Thriller             1\n",
       "Comedy, Parody, Shounen, Supernatural                              1\n",
       "Name: genre, Length: 517, dtype: int64"
      ]
     },
     "execution_count": 38,
     "metadata": {},
     "output_type": "execute_result"
    }
   ],
   "source": [
    "df_anime['genre'].value_counts()"
   ]
  },
  {
   "cell_type": "code",
   "execution_count": 39,
   "metadata": {},
   "outputs": [
    {
     "data": {
      "text/plain": [
       "850"
      ]
     },
     "execution_count": 39,
     "metadata": {},
     "output_type": "execute_result"
    }
   ],
   "source": [
    "len(df_anime)"
   ]
  },
  {
   "cell_type": "markdown",
   "metadata": {},
   "source": [
    "### __Create Recommender System__"
   ]
  },
  {
   "cell_type": "code",
   "execution_count": 42,
   "metadata": {},
   "outputs": [
    {
     "name": "stdout",
     "output_type": "stream",
     "text": [
      "40\n",
      "['action', 'adventure', 'cars', 'comedy', 'dementia', 'demons', 'drama', 'ecchi', 'fantasy', 'game', 'harem', 'historical', 'horror', 'josei', 'kids', 'magic', 'martial arts', 'mecha', 'military', 'music', 'mystery', 'parody', 'police', 'psychological', 'romance', 'samurai', 'school', 'sci-fi', 'seinen', 'shoujo', 'shoujo ai', 'shounen', 'shounen ai', 'slice of life', 'space', 'sports', 'super power', 'supernatural', 'thriller', 'vampire']\n"
     ]
    }
   ],
   "source": [
    "cvr = CountVectorizer(\n",
    "    tokenizer = lambda x: x.split(', ') # hanya koma untuk memecah kolom genre\n",
    ")\n",
    "\n",
    "mgenre_a = cvr.fit_transform(df_anime['genre'])\n",
    "\n",
    "print(len(cvr.get_feature_names()))\n",
    "print(cvr.get_feature_names())"
   ]
  },
  {
   "cell_type": "code",
   "execution_count": 43,
   "metadata": {},
   "outputs": [
    {
     "data": {
      "text/plain": [
       "array([[0, 0, 0, ..., 1, 0, 0],\n",
       "       [1, 1, 0, ..., 0, 0, 0],\n",
       "       [1, 0, 0, ..., 0, 0, 0],\n",
       "       ...,\n",
       "       [1, 0, 0, ..., 1, 0, 0],\n",
       "       [0, 0, 0, ..., 0, 0, 0],\n",
       "       [0, 0, 0, ..., 0, 0, 0]], dtype=int64)"
      ]
     },
     "execution_count": 43,
     "metadata": {},
     "output_type": "execute_result"
    }
   ],
   "source": [
    "mgenre_a.toarray()"
   ]
  },
  {
   "cell_type": "code",
   "execution_count": 44,
   "metadata": {},
   "outputs": [
    {
     "data": {
      "text/plain": [
       "array([[1.        , 0.18898224, 0.        , ..., 0.4472136 , 0.        ,\n",
       "        0.40824829],\n",
       "       [0.18898224, 1.        , 0.28571429, ..., 0.16903085, 0.        ,\n",
       "        0.3086067 ],\n",
       "       [0.        , 0.28571429, 1.        , ..., 0.3380617 , 0.26726124,\n",
       "        0.15430335],\n",
       "       ...,\n",
       "       [0.4472136 , 0.16903085, 0.3380617 , ..., 1.        , 0.        ,\n",
       "        0.18257419],\n",
       "       [0.        , 0.        , 0.26726124, ..., 0.        , 1.        ,\n",
       "        0.28867513],\n",
       "       [0.40824829, 0.3086067 , 0.15430335, ..., 0.18257419, 0.28867513,\n",
       "        1.        ]])"
      ]
     },
     "execution_count": 44,
     "metadata": {},
     "output_type": "execute_result"
    }
   ],
   "source": [
    "cosScore_anime = cosine_similarity(mgenre_a)\n",
    "cosScore_anime"
   ]
  },
  {
   "cell_type": "markdown",
   "metadata": {},
   "source": [
    "### __Anime Recommender__"
   ]
  },
  {
   "cell_type": "code",
   "execution_count": 77,
   "metadata": {},
   "outputs": [
    {
     "name": "stdin",
     "output_type": "stream",
     "text": [
      "Anime yang Anda sukai?  One Piece\n"
     ]
    },
    {
     "data": {
      "text/plain": [
       "74"
      ]
     },
     "execution_count": 77,
     "metadata": {},
     "output_type": "execute_result"
    }
   ],
   "source": [
    "animeSuka = input('Anime yang Anda sukai? ')\n",
    "indexSuka = df_anime[df_anime['name'] == animeSuka].index[0]\n",
    "indexSuka"
   ]
  },
  {
   "cell_type": "code",
   "execution_count": 78,
   "metadata": {},
   "outputs": [],
   "source": [
    "anime_recom = list(enumerate(cosScore_anime[indexSuka]))"
   ]
  },
  {
   "cell_type": "code",
   "execution_count": 79,
   "metadata": {},
   "outputs": [],
   "source": [
    "# 1. Ranking Manual\n",
    "anime_recom_sortir = sorted(anime_recom, key=lambda x:x[1], reverse=True)\n",
    "# anime_recom_sortir"
   ]
  },
  {
   "cell_type": "code",
   "execution_count": 80,
   "metadata": {},
   "outputs": [],
   "source": [
    "# 2. Filter yang Cosine Similarity, score-nya di atas 70%\n",
    "anime_recom_bgt = list(filter(lambda x: x[1] > 0.7, anime_recom))\n",
    "anime_recom_bgt_sorted = sorted(anime_recom_bgt, key=lambda x:x[1], reverse=True)"
   ]
  },
  {
   "cell_type": "code",
   "execution_count": 81,
   "metadata": {},
   "outputs": [
    {
     "name": "stdout",
     "output_type": "stream",
     "text": [
      "One Piece: Episode of Merry - Mou Hitori no Nakama no Monogatari\n",
      "One Piece: Episode of Nami - Koukaishi no Namida to Nakama no Kizuna\n",
      "One Piece Film: Strong World\n",
      "One Piece Film: Z\n",
      "One Piece Film: Gold\n",
      "One Piece Film: Strong World Episode 0\n",
      "One Piece: Episode of Luffy - Hand Island no Bouken\n",
      "Dragon Ball Z\n",
      "Dragon Ball Kai (2014)\n"
     ]
    }
   ],
   "source": [
    "# menampilkan rekomendasi anime sesuai yang kamu suka berdasarkan kesamaan 'GENRE'\n",
    "for i in anime_recom_bgt_sorted[1:10]:\n",
    "    print(df_anime.iloc[i[0]]['name'])"
   ]
  },
  {
   "cell_type": "code",
   "execution_count": 82,
   "metadata": {},
   "outputs": [
    {
     "data": {
      "text/html": [
       "<div>\n",
       "<style scoped>\n",
       "    .dataframe tbody tr th:only-of-type {\n",
       "        vertical-align: middle;\n",
       "    }\n",
       "\n",
       "    .dataframe tbody tr th {\n",
       "        vertical-align: top;\n",
       "    }\n",
       "\n",
       "    .dataframe thead th {\n",
       "        text-align: right;\n",
       "    }\n",
       "</style>\n",
       "<table border=\"1\" class=\"dataframe\">\n",
       "  <thead>\n",
       "    <tr style=\"text-align: right;\">\n",
       "      <th></th>\n",
       "      <th>anime_id</th>\n",
       "      <th>name</th>\n",
       "      <th>genre</th>\n",
       "      <th>type</th>\n",
       "      <th>episodes</th>\n",
       "      <th>rating</th>\n",
       "      <th>members</th>\n",
       "    </tr>\n",
       "  </thead>\n",
       "  <tbody>\n",
       "    <tr>\n",
       "      <th>74</th>\n",
       "      <td>21</td>\n",
       "      <td>One Piece</td>\n",
       "      <td>Action, Adventure, Comedy, Drama, Fantasy, Sho...</td>\n",
       "      <td>TV</td>\n",
       "      <td>Unknown</td>\n",
       "      <td>8.58</td>\n",
       "      <td>504862</td>\n",
       "    </tr>\n",
       "  </tbody>\n",
       "</table>\n",
       "</div>"
      ],
      "text/plain": [
       "    anime_id       name                                              genre  \\\n",
       "74        21  One Piece  Action, Adventure, Comedy, Drama, Fantasy, Sho...   \n",
       "\n",
       "   type episodes  rating  members  \n",
       "74   TV  Unknown    8.58   504862  "
      ]
     },
     "execution_count": 82,
     "metadata": {},
     "output_type": "execute_result"
    }
   ],
   "source": [
    "df_anime[df_anime['name'] == 'One Piece']"
   ]
  },
  {
   "cell_type": "code",
   "execution_count": 83,
   "metadata": {},
   "outputs": [
    {
     "data": {
      "text/html": [
       "<div>\n",
       "<style scoped>\n",
       "    .dataframe tbody tr th:only-of-type {\n",
       "        vertical-align: middle;\n",
       "    }\n",
       "\n",
       "    .dataframe tbody tr th {\n",
       "        vertical-align: top;\n",
       "    }\n",
       "\n",
       "    .dataframe thead th {\n",
       "        text-align: right;\n",
       "    }\n",
       "</style>\n",
       "<table border=\"1\" class=\"dataframe\">\n",
       "  <thead>\n",
       "    <tr style=\"text-align: right;\">\n",
       "      <th></th>\n",
       "      <th>anime_id</th>\n",
       "      <th>name</th>\n",
       "      <th>genre</th>\n",
       "      <th>type</th>\n",
       "      <th>episodes</th>\n",
       "      <th>rating</th>\n",
       "      <th>members</th>\n",
       "    </tr>\n",
       "  </thead>\n",
       "  <tbody>\n",
       "    <tr>\n",
       "      <th>206</th>\n",
       "      <td>813</td>\n",
       "      <td>Dragon Ball Z</td>\n",
       "      <td>Action, Adventure, Comedy, Fantasy, Martial Ar...</td>\n",
       "      <td>TV</td>\n",
       "      <td>291</td>\n",
       "      <td>8.32</td>\n",
       "      <td>375662</td>\n",
       "    </tr>\n",
       "  </tbody>\n",
       "</table>\n",
       "</div>"
      ],
      "text/plain": [
       "     anime_id           name  \\\n",
       "206       813  Dragon Ball Z   \n",
       "\n",
       "                                                 genre type episodes  rating  \\\n",
       "206  Action, Adventure, Comedy, Fantasy, Martial Ar...   TV      291    8.32   \n",
       "\n",
       "     members  \n",
       "206   375662  "
      ]
     },
     "execution_count": 83,
     "metadata": {},
     "output_type": "execute_result"
    }
   ],
   "source": [
    "df_anime[df_anime['name'] == 'Dragon Ball Z']"
   ]
  },
  {
   "cell_type": "markdown",
   "metadata": {},
   "source": [
    "<hr>\n",
    "\n",
    "## **Take Class Exercise**\n",
    "#### 1. Create Recommender System based on 'type' feature\n",
    "#### 2. Create Recommender System based on 'genre' & 'type' feature\n",
    "\n",
    "## **Take Home Exercise**\n",
    "#### 3. Create Recommender System based on 'rating' & 'type' feature"
   ]
  },
  {
   "cell_type": "markdown",
   "metadata": {},
   "source": [
    "<hr>\n",
    "\n",
    "# **Reference**:\n",
    "- Carlos Pinela, \"Recommender Systems — User-Based and Item-Based Collaborative Filtering\", https://medium.com/@cfpinela/recommender-systems-user-based-and-item-based-collaborative-filtering-5d5f375a127f\n",
    "- Rakesh4real, \"User-Based and Item-Based Collaborative Filtering — Part 5\", https://medium.com/fnplus/user-based-and-item-based-collaborative-filtering-b73d9b2badba\n",
    "- Muffaddal Qutbuddin, \"Comprehensive Guide on Item Based Collaborative Filtering\", https://towardsdatascience.com/comprehensive-guide-on-item-based-recommendation-systems-d67e40e2b75d\n",
    "- Aishwarya.27, \"Python | Implementation of Movie Recommender System\", https://www.geeksforgeeks.org/python-implementation-of-movie-recommender-system/\n",
    "- Shuyu Luo, \"Introduction to Recommender System\", https://towardsdatascience.com/intro-to-recommender-system-collaborative-filtering-64a238194a26\n",
    "- Kevin Liao, \"Prototyping a Recommender System Step by Step Part 1: KNN Item-Based Collaborative Filtering\", https://towardsdatascience.com/prototyping-a-recommender-system-step-by-step-part-1-knn-item-based-collaborative-filtering-637969614ea\n",
    "- Selva Prabhakaran, \"Cosine Similarity – Understanding the math and how it works (with python codes)\", https://www.machinelearningplus.com/nlp/cosine-similarity/"
   ]
  }
 ],
 "metadata": {
  "kernelspec": {
   "display_name": "Python 3.8.1 32-bit",
   "language": "python",
   "name": "python38132bitf9f79e71b62e4503b25567c1d3914456"
  },
  "language_info": {
   "codemirror_mode": {
    "name": "ipython",
    "version": 3
   },
   "file_extension": ".py",
   "mimetype": "text/x-python",
   "name": "python",
   "nbconvert_exporter": "python",
   "pygments_lexer": "ipython3",
   "version": "3.8.1"
  }
 },
 "nbformat": 4,
 "nbformat_minor": 4
}
